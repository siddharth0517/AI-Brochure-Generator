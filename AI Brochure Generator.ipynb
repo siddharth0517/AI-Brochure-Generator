{
 "cells": [
  {
   "cell_type": "markdown",
   "id": "d64dcc2a-b7ad-410c-b511-838951928418",
   "metadata": {},
   "source": [
    "Importing Neccesary Library"
   ]
  },
  {
   "cell_type": "code",
   "execution_count": 2,
   "id": "62e88b37-350f-4810-9cbf-71354cec4ca7",
   "metadata": {},
   "outputs": [],
   "source": [
    "import os\n",
    "import requests\n",
    "import json\n",
    "from typing import List\n",
    "from dotenv import load_dotenv\n",
    "from bs4 import BeautifulSoup\n",
    "from IPython.display import Markdown, display, update_display\n",
    "from openai import OpenAI"
   ]
  },
  {
   "cell_type": "markdown",
   "id": "f680d46f-ec92-4c11-9060-0324b275f040",
   "metadata": {},
   "source": [
    "Loading ENV File"
   ]
  },
  {
   "cell_type": "code",
   "execution_count": 5,
   "id": "2f3fb2f5-41fa-48b0-b8a6-e0a38e593784",
   "metadata": {},
   "outputs": [],
   "source": [
    "load_dotenv(override = True)\n",
    "\n",
    "api_key = os.getenv('venice')\n",
    "\n",
    "MODEL = 'cognitivecomputations/dolphin-mistral-24b-venice-edition:free'"
   ]
  },
  {
   "cell_type": "code",
   "execution_count": 7,
   "id": "5572a492-170f-4866-b32a-1f15033cbbe6",
   "metadata": {},
   "outputs": [],
   "source": [
    "client = OpenAI(\n",
    "    base_url=\"https://openrouter.ai/api/v1\",\n",
    "    api_key= api_key,\n",
    ")"
   ]
  },
  {
   "cell_type": "markdown",
   "id": "6c755e47-49a9-4179-9538-cc9ca62169b4",
   "metadata": {},
   "source": [
    "Web Scraping"
   ]
  },
  {
   "cell_type": "code",
   "execution_count": 10,
   "id": "77f58d74-8284-4b2e-b679-a9b6b957edb0",
   "metadata": {},
   "outputs": [],
   "source": [
    "\n",
    "headers = {\n",
    " \"User-Agent\": \"Mozilla/5.0 (Windows NT 10.0; Win64; x64) AppleWebKit/537.36 (KHTML, like Gecko) Chrome/117.0.0.0 Safari/537.36\"\n",
    "}\n",
    "\n",
    "class Website:\n",
    "    \"\"\"\n",
    "    A utility class to represent a Website that we have scraped, now with links\n",
    "    \"\"\"\n",
    "\n",
    "    def __init__(self, url):\n",
    "        self.url = url\n",
    "        response = requests.get(url, headers=headers)\n",
    "        self.body = response.content\n",
    "        soup = BeautifulSoup(self.body, 'html.parser')\n",
    "        self.title = soup.title.string if soup.title else \"No title found\"\n",
    "        if soup.body:\n",
    "            for irrelevant in soup.body([\"script\", \"style\", \"img\", \"input\"]):\n",
    "                irrelevant.decompose()\n",
    "            self.text = soup.body.get_text(separator=\"\\n\", strip=True)\n",
    "        else:\n",
    "            self.text = \"\"\n",
    "        links = [link.get('href') for link in soup.find_all('a')]\n",
    "        self.links = [link for link in links if link]\n",
    "\n",
    "    def get_contents(self):\n",
    "        return f\"Webpage Title:\\n{self.title}\\nWebpage Contents:\\n{self.text}\\n\\n\""
   ]
  },
  {
   "cell_type": "markdown",
   "id": "e118f5af-7b43-4600-bff4-31d4dc808192",
   "metadata": {},
   "source": [
    "Get Usable Links using LLM"
   ]
  },
  {
   "cell_type": "code",
   "execution_count": 13,
   "id": "bf3bfeec-c938-4b42-bafd-b957b0c684ae",
   "metadata": {},
   "outputs": [],
   "source": [
    "link_system_prompt = \"You are provided with a list of links found on a webpage. \\\n",
    "You are able to decide which of the links would be most relevant to include in a brochure about the company, \\\n",
    "such as links to an About page, or a Company page, or Careers/Jobs pages.\\n\"\n",
    "link_system_prompt += \"You should respond in JSON as in this example:\"\n",
    "link_system_prompt += \"\"\"\n",
    "{\n",
    "    \"links\": [\n",
    "        {\"type\": \"about page\", \"url\": \"https://full.url/goes/here/about\"},\n",
    "        {\"type\": \"careers page\": \"url\": \"https://another.full.url/careers\"}\n",
    "    ]\n",
    "}\n",
    "\"\"\""
   ]
  },
  {
   "cell_type": "code",
   "execution_count": 15,
   "id": "540b85f6-34d0-4150-983c-ede461c656f9",
   "metadata": {},
   "outputs": [],
   "source": [
    "def get_links_user_prompt(website):\n",
    "    user_prompt = f\"Here is the list of links on the website of {website.url} - \"\n",
    "    user_prompt += \"please decide which of these are relevant web links for a brochure about the company, respond with the full https URL in JSON format. \\\n",
    "Do not include Terms of Service, Privacy, email links.\\n\"\n",
    "    user_prompt += \"Links (some might be relative links):\\n\"\n",
    "    user_prompt += \"\\n\".join(website.links)\n",
    "    return user_prompt"
   ]
  },
  {
   "cell_type": "code",
   "execution_count": 21,
   "id": "e982533a-f689-45c3-af77-58941d6e65ba",
   "metadata": {},
   "outputs": [],
   "source": [
    "def get_links(url):\n",
    "    website = Website(url)\n",
    "    response = client.chat.completions.create(\n",
    "        model=MODEL,\n",
    "        messages=[\n",
    "            {\"role\": \"system\", \"content\": link_system_prompt},\n",
    "            {\"role\": \"user\", \"content\": get_links_user_prompt(website)}\n",
    "      ],\n",
    "        response_format={\"type\": \"json_object\"}\n",
    "    )\n",
    "    result = response.choices[0].message.content\n",
    "    return json.loads(result)"
   ]
  },
  {
   "cell_type": "code",
   "execution_count": 23,
   "id": "ca5023d6-27e1-4cc0-87c0-5db8c4c49d4b",
   "metadata": {},
   "outputs": [
    {
     "data": {
      "text/plain": [
       "{'links': [{'type': 'about page',\n",
       "   'url': 'https://www.geeksforgeeks.org/about/'},\n",
       "  {'type': 'jobs and careers page',\n",
       "   'url': 'https://geeksforgeeks.zohorecruit.in/careers'},\n",
       "  {'type': 'community page', 'url': 'https://connect.geeksforgeeks.org/'}]}"
      ]
     },
     "execution_count": 23,
     "metadata": {},
     "output_type": "execute_result"
    }
   ],
   "source": [
    "get_links(\"https://www.geeksforgeeks.org/\")"
   ]
  },
  {
   "cell_type": "code",
   "execution_count": 25,
   "id": "9a4bc135-8343-4bc8-b0da-1154c0dd6fd5",
   "metadata": {},
   "outputs": [
    {
     "data": {
      "text/plain": [
       "{'links': [{'type': 'home page', 'url': 'https://huggingface.co/'},\n",
       "  {'type': 'models page', 'url': 'https://huggingface.co/models'},\n",
       "  {'type': 'datasets page', 'url': 'https://huggingface.co/datasets'},\n",
       "  {'type': 'enterprise services page',\n",
       "   'url': 'https://huggingface.co/enterprise'},\n",
       "  {'type': 'pricing page', 'url': 'https://huggingface.co/pricing'},\n",
       "  {'type': 'join us page', 'url': 'https://huggingface.co/join'},\n",
       "  {'type': 'careers page', 'url': 'https://apply.workable.com/huggingface/'},\n",
       "  {'type': 'about us page', 'url': 'https://huggingface.co/brand'},\n",
       "  {'type': 'social media - twitter', 'url': 'https://twitter.com/huggingface'},\n",
       "  {'type': 'social media - linkedin',\n",
       "   'url': 'https://www.linkedin.com/company/huggingface/'}]}"
      ]
     },
     "execution_count": 25,
     "metadata": {},
     "output_type": "execute_result"
    }
   ],
   "source": [
    "get_links(\"https://huggingface.co\")"
   ]
  },
  {
   "cell_type": "markdown",
   "id": "133c1ad8-533e-4083-b089-791b36f05606",
   "metadata": {},
   "source": [
    "Make The Brochure"
   ]
  },
  {
   "cell_type": "code",
   "execution_count": 30,
   "id": "ad67ac23-4fad-47d4-a22d-71bf2b74e74a",
   "metadata": {},
   "outputs": [],
   "source": [
    "def get_all_details(url):\n",
    "    result = \"Landing page:\\n\"\n",
    "    result += Website(url).get_contents()\n",
    "    links = get_links(url)\n",
    "    for link in links[\"links\"]:\n",
    "        result += f\"\\n\\n{link['type']}\\n\"\n",
    "        result += Website(link[\"url\"]).get_contents()\n",
    "    return result"
   ]
  },
  {
   "cell_type": "code",
   "execution_count": 32,
   "id": "201ba4e5-5137-49a8-b7f9-4428e9122fe0",
   "metadata": {},
   "outputs": [],
   "source": [
    "system_prompt = \"You are an assistant that analyzes the contents of several relevant pages from a company website \\\n",
    "and creates a short humorous, entertaining, jokey brochure about the company for prospective customers, investors and recruits. Respond in markdown.\\\n",
    "Include details of company culture, customers and careers/jobs if you have the information.\"\n"
   ]
  },
  {
   "cell_type": "code",
   "execution_count": 34,
   "id": "1cf11579-d5cf-44dc-9cfe-9e4bb975e340",
   "metadata": {},
   "outputs": [],
   "source": [
    "def get_brochure_user_prompt(company_name, url):\n",
    "    user_prompt = f\"You are looking at a company called: {company_name}\\n\"\n",
    "    user_prompt += f\"Here are the contents of its landing page and other relevant pages; use this information to build a short brochure of the company in markdown.\\n\"\n",
    "    user_prompt += get_all_details(url)\n",
    "    user_prompt = user_prompt[:5_000] \n",
    "    return user_prompt"
   ]
  },
  {
   "cell_type": "code",
   "execution_count": 36,
   "id": "e12a9afe-c8f4-4f30-a43d-4c273038f664",
   "metadata": {},
   "outputs": [],
   "source": [
    "def create_brochure(company_name, url):\n",
    "    response = client.chat.completions.create(\n",
    "        model=MODEL,\n",
    "        messages=[\n",
    "            {\"role\": \"system\", \"content\": system_prompt},\n",
    "            {\"role\": \"user\", \"content\": get_brochure_user_prompt(company_name, url)}\n",
    "          ],\n",
    "    )\n",
    "    result = response.choices[0].message.content\n",
    "    display(Markdown(result))"
   ]
  },
  {
   "cell_type": "code",
   "execution_count": 38,
   "id": "51761113-c005-4ba3-97e2-4f3ed148bc1d",
   "metadata": {},
   "outputs": [
    {
     "data": {
      "text/markdown": [
       "# Welcome to GeeksforGeeks: Where Nerds Unleash Their Potential!\n",
       "\n",
       "## About Us\n",
       "\n",
       "Ever wondered where nerds go to become super nerds? Welcome to GeeksforGeeks, your ultimate learning playground! We're not just a website; we're a thriving community of tech enthusiasts, where geeks come to geek out!\n",
       "\n",
       "### Our Mission\n",
       "\n",
       "To make learning tech as fun as leveling up in your favorite video game. We believe that every geek deserves to learn, grow, and dominate the tech world with their skills!\n",
       "\n",
       "## What We Offer\n",
       "\n",
       "### Courses\n",
       "\n",
       "From Python to DevOps, we've got courses that'll make you say, \"I can't believe I'm actually enjoying this!\" Here are a few of our fan favorites:\n",
       "\n",
       "1. **DSA to Development: A Complete Guide** - For those who want to go from zero to hero in Data Structures and Algorithms.\n",
       "2. **JAVA Backend Development - Live** - Because who doesn't love a good live coding session?\n",
       "3. **Full Stack Development with React & Node JS** - Turn your ideas into reality with this project-based training.\n",
       "4. **Tech Interview 101** - From DSA to System Design, we've got you covered for your dream tech job.\n",
       "\n",
       "### Tutorials and Practice\n",
       "\n",
       "- **Practice Problems** - Expand your mind with puzzles and challenges in C, C++, Java, Python, and more!\n",
       "- **Interview Preparation** - Got an interview? We've got your back with company-specific prep and aptitude tests.\n",
       "\n",
       "### Community\n",
       "\n",
       "Join our community and become part of a network where you can share your experiences, learn from others, and maybe even find your tech soulmate! We've got:\n",
       "\n",
       "- Personalized feed with the latest tech trends and discussions.\n",
       "- Interview experiences shared by real geeks, like you.\n",
       "- Job and internship opportunities tailored just for you.\n",
       "\n",
       "## Why Join GeeksforGeeks?\n",
       "\n",
       "- **Learn with Peers** - Because sharing is caring, especially when it comes to code!\n",
       "- **Build Your Skills** - From scratch to star, we'll take you on a journey of continuous learning.\n",
       "- **Visibility and Career Growth** - Showcase your projects, build a portfolio, and let the world know you're a tech superstar!\n",
       "\n",
       "## Careers at GeeksforGeeks\n",
       "\n",
       "Looking to join our merry band of tech enthusiasts? We're always on the lookout for passionate geeks to help us grow and innovate. From interns to full-time roles, there's something for everyone at GeeksforGeeks!\n",
       "\n",
       "## Contact Us\n",
       "\n",
       "**Corporate Office:**\n",
       "A-143, 7th Floor, Sovereign Corporate Tower, Sector- 136, Noida, Uttar Pradesh (201305)\n",
       "\n",
       "**Registered Office:**\n",
       "K 061, Tower K, Gulshan Vivante Apartment, Sector 137, Noida, Gautam Buddh Nagar, Uttar Pradesh, 201305\n",
       "\n",
       "Have a question or just want to say hi? Reach out to us at [contact details].\n",
       "\n",
       "## Join the Geek Revolution!\n",
       "\n",
       "Ready to geek out and level up your skills? Join GeeksforGeeks today and let the journey begin! 🚀\n",
       "\n",
       "*Nerds of the world, unify!*"
      ],
      "text/plain": [
       "<IPython.core.display.Markdown object>"
      ]
     },
     "metadata": {},
     "output_type": "display_data"
    }
   ],
   "source": [
    "create_brochure(\"GeeksForGeeks\", \"https://www.geeksforgeeks.org/\")"
   ]
  },
  {
   "cell_type": "code",
   "execution_count": 44,
   "id": "2229281a-7378-4f4c-9952-288d0bd4927a",
   "metadata": {},
   "outputs": [],
   "source": [
    "def stream_brochure(company_name, url):\n",
    "    stream = client.chat.completions.create(\n",
    "        model=MODEL,\n",
    "        messages=[\n",
    "            {\"role\": \"system\", \"content\": system_prompt},\n",
    "            {\"role\": \"user\", \"content\": get_brochure_user_prompt(company_name, url)}\n",
    "          ],\n",
    "        stream=True\n",
    "    )\n",
    "    \n",
    "    response = \"\"\n",
    "    display_handle = display(Markdown(\"\"), display_id=True)\n",
    "    for chunk in stream:\n",
    "        response += chunk.choices[0].delta.content or ''\n",
    "        response = response.replace(\"```\",\"\").replace(\"markdown\", \"\")\n",
    "        update_display(Markdown(response), display_id=display_handle.display_id)"
   ]
  },
  {
   "cell_type": "code",
   "execution_count": 46,
   "id": "dbf138a2-b36a-4d5c-a6de-54b7ed8f03c8",
   "metadata": {},
   "outputs": [
    {
     "data": {
      "text/markdown": [
       "# GeeksForGeeks: Your Ultimate Learning Hub!\n",
       "\n",
       "## Welcome to the World of Geeks!\n",
       "\n",
       "Ever felt like a fish out of water in the tech world? Well, GeeksForGeeks is here to turn you into a tech-savvy shark! We're your one-stop shop for all things coding, offering a smorgasbord of courses, tutorials, and practice problems that'll make your brain tickle with joy.\n",
       "\n",
       "## What's Cooking at GeeksForGeeks?\n",
       "\n",
       "### Courses Galore!\n",
       "- **Data Structures & Algorithms (DSA):** Because who doesn't love a good puzzle?\n",
       "- **Web Development:** From HTML to JavaScript, we've got you covered like a well-designed webpage.\n",
       "- **Data Science & Machine Learning:** Dive into the world of AI and come out as a восстаниан на машинното учение.\n",
       "- **Linux & DevOps:** Become a system ninja with our top-notch courses.\n",
       "\n",
       "### Practice Makes Perfect\n",
       "- **Coding Problems:** Solve your way to glory with hundreds of practice problems.\n",
       "- **Interview Preparation:** Ace those tech interviews with our expert tips and tricks.\n",
       "\n",
       "### Community Vibes\n",
       "Join our thriving peer network and grow together. Share interview experiences, job openings, and more. Who said learning can't be social?\n",
       "\n",
       "## Why Choose GeeksForGeeks?\n",
       "\n",
       "### Exclusive Perks\n",
       "- **Personalized Feed:** Get content tailored just for you. Because one size fits all is so last season.\n",
       "- **Job Openings & Updates:** Stay in the loop with the latest job opportunities. Your dream job is just a click away!\n",
       "\n",
       "### Success Stories\n",
       "Hear it from our happy geeks:\n",
       "- \"On-campus Interview Experience for SDE\" — turned a nerd into a CTO!\n",
       "- \"Web3 is trending because it’s changing the internet as we know it!\" — said the geek who became a blockchain guru.\n",
       "\n",
       "## Careers at GeeksForGeeks\n",
       "\n",
       "Looking for a job where you can geek out and get paid for it? Join our team and be part of a company that loves tech as much as you do. Check out our [Careers](https://www.geeksforgeeks.org/careers/) page for open positions and become the next big thing in the tech world!\n",
       "\n",
       "## Join the Geek Revolution!\n",
       "\n",
       "Whether you're a student, a professional, or just someone who loves to tinker with code, GeeksForGeeks is your home. Come geek out with us and let's build something amazing together!\n",
       "\n",
       "*GeeksForGeeks — Where techies become rock stars!* 🎓💻🚀"
      ],
      "text/plain": [
       "<IPython.core.display.Markdown object>"
      ]
     },
     "metadata": {},
     "output_type": "display_data"
    }
   ],
   "source": [
    "stream_brochure(\"GeeksForGeeks\", \"https://www.geeksforgeeks.org/\")"
   ]
  },
  {
   "cell_type": "code",
   "execution_count": null,
   "id": "064479c3-73dc-4fc2-bb6c-26b82deebd25",
   "metadata": {},
   "outputs": [],
   "source": []
  }
 ],
 "metadata": {
  "kernelspec": {
   "display_name": "Python 3 (ipykernel)",
   "language": "python",
   "name": "python3"
  },
  "language_info": {
   "codemirror_mode": {
    "name": "ipython",
    "version": 3
   },
   "file_extension": ".py",
   "mimetype": "text/x-python",
   "name": "python",
   "nbconvert_exporter": "python",
   "pygments_lexer": "ipython3",
   "version": "3.12.3"
  }
 },
 "nbformat": 4,
 "nbformat_minor": 5
}
